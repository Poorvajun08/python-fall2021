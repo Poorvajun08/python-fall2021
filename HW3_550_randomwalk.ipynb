{
 "cells": [
  {
   "cell_type": "markdown",
   "id": "2a0e8eab",
   "metadata": {},
   "source": [
    "PART-1- With equal probability\n",
    " pl = 1/3 , pr = 1/3, ps = 1/3 "
   ]
  },
  {
   "cell_type": "code",
   "execution_count": 30,
   "id": "6e41afef",
   "metadata": {},
   "outputs": [],
   "source": [
    "\n",
    "'''\n",
    "Assuming the values for random walk between randome probability(0,1)  \n",
    "with 0,1/3 - right, 1/3, 2/3-left, 2/3,1-stop\n",
    "for right +1,left -1,stop 0\n",
    "all 3 have equal probality of 1/3 of occuring for a random walk\n",
    "\n",
    "''' \n",
    "import random\n",
    "import matplotlib.pyplot as plt\n",
    "\n",
    "\n",
    "class Base_walker1D: \n",
    "    def __init__(self):\n",
    "        pass\n",
    "    def one_step(self):\n",
    "        pass\n",
    "    def steps(self,n=1):\n",
    "        for i in range(n):\n",
    "            self.one_step()\n",
    "\n",
    "class Random_walker1D(Base_walker1D):\n",
    "    def __init__(self):\n",
    "        \n",
    "        self.x = 0\n",
    "        self.walk = [self.x]\n",
    "    def one_step(self):\n",
    "        rand =  round(random.uniform(0.00,1.00),2)\n",
    "      \n",
    "        if rand <= 0.33:\n",
    "            self.x += 1\n",
    "            \n",
    "        elif rand <=0.66:\n",
    "            self.x -= 1         \n",
    "        else:\n",
    "            self.x += 0\n",
    "        self.walk.append(self.x)\n",
    "    def get_walk(self):\n",
    "        # return the history of the position of the walker\n",
    "        return self.walk\n",
    "    \n",
    "num_walks = 100\n",
    "\n",
    "total_positions = []\n",
    "\n",
    "\n",
    "\n",
    "\n",
    "for i in range(num_walks): \n",
    "    walker = Random_walker1D()\n",
    "    walker.steps(1000)\n",
    "    walk = walker.get_walk()\n",
    "    total_positions.append(walk)\n",
    "\n",
    "list_t10 = []\n",
    "list_t100 = []\n",
    "list_t1000 = []\n",
    "\n",
    "for sublist in total_positions:\n",
    "    list_t10.append(sublist[10]) \n",
    "    list_t100.append(sublist[100])\n",
    "    list_t1000.append(sublist[-1]) \n"
   ]
  },
  {
   "cell_type": "code",
   "execution_count": 37,
   "id": "9f3633eb",
   "metadata": {},
   "outputs": [
    {
     "data": {
      "image/png": "[encoded data removed]",
      "text/plain": [
       "<Figure size 432x288 with 1 Axes>"
      ]
     },
     "metadata": {
      "needs_background": "light"
     },
     "output_type": "display_data"
    }
   ],
   "source": [
    "'''\n",
    "Plotting a histogram for the various values of at t = 10, t = 100, t=1000\n",
    "gathered from above 1Drandom walk \n",
    "'''\n",
    "\n",
    "plt.xlabel('positions')\n",
    "plt.ylabel('probabilities')\n",
    " \n",
    "plt.hist(list_t10, density=True,label= 't=10')\n",
    "plt.hist(list_t100, density=True,label= 't=100')\n",
    "plt.hist(list_t1000, density=True,label= 't=1000')\n",
    "plt.legend(loc='upper left')\n",
    "plt.title('Probability density');   \n",
    "\n",
    "\n"
   ]
  },
  {
   "cell_type": "code",
   "execution_count": 32,
   "id": "b57b1932",
   "metadata": {},
   "outputs": [
    {
     "data": {
      "image/png": "[encoded data removed]",
      "text/plain": [
       "<Figure size 432x288 with 1 Axes>"
      ]
     },
     "metadata": {
      "needs_background": "light"
     },
     "output_type": "display_data"
    }
   ],
   "source": [
    "'''\n",
    "Plotting a Cumulative distribution curve for the various values of at t = 10, t = 100, t=1000\n",
    "with x axis values range gathered from above histogram\n",
    "'''\n",
    "\n",
    "\n",
    "\n",
    "def cumulative(x, X): \n",
    "    F = np.zeros(x.size)\n",
    "    for i in range(x.size):\n",
    "        F[i] = (X <= x[i]).mean()\n",
    "    return F\n",
    "\n",
    "x = np.linspace(-60, 80, 500)\n",
    "F1 = cumulative(x, list_t10)\n",
    "F2 = cumulative(x, list_t100)\n",
    "F3 = cumulative(x, list_t1000)\n",
    "plt.plot(x, F1,'.',label= 't=10')\n",
    "plt.plot(x, F2,'.',label= 't=100')\n",
    "plt.plot(x, F3,'.',label= 't=1000')\n",
    "plt.legend(loc='upper left')\n",
    "\n",
    "\n",
    "plt.title('cumulative distribution');"
   ]
  },
  {
   "cell_type": "markdown",
   "id": "cc478f04",
   "metadata": {},
   "source": [
    "PART 2:- With different probability\n",
    "pl = 0, pr = 1/2~0.5, and ps = 1/2~0.5\n",
    "since left has zero probability below is code with equal probability distributed between going right and stopping in 0-1 \n"
   ]
  },
  {
   "cell_type": "code",
   "execution_count": 34,
   "id": "696f96aa",
   "metadata": {},
   "outputs": [],
   "source": [
    "import random\n",
    "import matplotlib.pyplot as plt\n",
    "\n",
    "\n",
    "class Base_walker1D_2: \n",
    "    def __init__(self):\n",
    "        pass\n",
    "    def one_step(self):\n",
    "        pass\n",
    "    def steps(self,n=1):\n",
    "        for i in range(n):\n",
    "            self.one_step()\n",
    "\n",
    "class Random_walker1D_2(Base_walker1D_2):\n",
    "    def __init__(self):\n",
    "        \n",
    "        self.x = 0\n",
    "        self.walk = [self.x]\n",
    "    def one_step(self):\n",
    "        rand =  round(random.uniform(0.0,1.0),1)\n",
    "      \n",
    "        if rand <= 0.5:\n",
    "            self.x += 1 \n",
    "        else:\n",
    "            self.x += 0\n",
    "        self.walk.append(self.x)\n",
    "    def get_walk(self):\n",
    "        # return the history of the position of the walker\n",
    "        return self.walk\n",
    "    \n",
    "num_walks = 100\n",
    "\n",
    "total_positions2 = []\n",
    "\n",
    "\n",
    "\n",
    "\n",
    "for i in range(num_walks): \n",
    "    walker = Random_walker1D_2()\n",
    "    walker.steps(1000)\n",
    "    walk = walker.get_walk()\n",
    "    total_positions2.append(walk)\n",
    "\n",
    "dlist_t10 = []\n",
    "dlist_t100 = []\n",
    "dlist_t1000 = []\n",
    "\n",
    "for sublist in total_positions2:\n",
    "    dlist_t10.append(sublist[10]) \n",
    "    dlist_t100.append(sublist[100])\n",
    "    dlist_t1000.append(sublist[-1]) "
   ]
  },
  {
   "cell_type": "code",
   "execution_count": 39,
   "id": "caf03877",
   "metadata": {},
   "outputs": [
    {
     "data": {
      "image/png": "[encoded data removed]",
      "text/plain": [
       "<Figure size 432x288 with 1 Axes>"
      ]
     },
     "metadata": {
      "needs_background": "light"
     },
     "output_type": "display_data"
    }
   ],
   "source": [
    "'''\n",
    "Plotting a histogram for the various values of at t = 10, t = 100, t=1000\n",
    "gathered from above 1Drandom walk of different probabilties \n",
    "'''\n",
    "\n",
    "plt.xlabel('positions')\n",
    "plt.ylabel('probabilities')\n",
    "plt.hist(dlist_t10, density=True,label= 't=10')\n",
    "plt.hist(dlist_t100, density=True,label= 't=100')\n",
    "plt.hist(dlist_t1000, density=True,label= 't=1000')\n",
    "plt.legend(loc='upper right')\n",
    "plt.title('Probability density');  \n"
   ]
  },
  {
   "cell_type": "code",
   "execution_count": 42,
   "id": "34014676",
   "metadata": {},
   "outputs": [
    {
     "data": {
      "image/png": "[encoded data removed]",
      "text/plain": [
       "<Figure size 432x288 with 1 Axes>"
      ]
     },
     "metadata": {
      "needs_background": "light"
     },
     "output_type": "display_data"
    }
   ],
   "source": [
    "'''\n",
    "Plotting a Cumulative distribution curve for the various values of at t = 10, t = 100, t=1000\n",
    "with x axis values range gathered from above histogram\n",
    "'''\n",
    "\n",
    "\n",
    "\n",
    "def cumulative(x, X): \n",
    "    F = np.zeros(x.size)\n",
    "    for i in range(x.size):\n",
    "        F[i] = (X <= x[i]).mean()\n",
    "    return F\n",
    "\n",
    "x = np.linspace(0, 600, 500)\n",
    "F1 = cumulative(x, dlist_t10)\n",
    "F2 = cumulative(x, dlist_t100)\n",
    "F3 = cumulative(x, dlist_t1000)\n",
    "plt.plot(x, F1,'.',label= 't=10')\n",
    "plt.plot(x, F2,'.',label= 't=100')\n",
    "plt.plot(x, F3,'.',label= 't=1000')\n",
    "plt.legend(loc='lower right')\n",
    "\n",
    "\n",
    "plt.title('cumulative distribution');"
   ]
  },
  {
   "cell_type": "code",
   "execution_count": null,
   "id": "609d85c2",
   "metadata": {},
   "outputs": [],
   "source": []
  }
 ],
 "metadata": {
  "kernelspec": {
   "display_name": "Python 3",
   "language": "python",
   "name": "python3"
  },
  "language_info": {
   "codemirror_mode": {
    "name": "ipython",
    "version": 3
   },
   "file_extension": ".py",
   "mimetype": "text/x-python",
   "name": "python",
   "nbconvert_exporter": "python",
   "pygments_lexer": "ipython3",
   "version": "3.8.8"
  }
 },
 "nbformat": 4,
 "nbformat_minor": 5
}
