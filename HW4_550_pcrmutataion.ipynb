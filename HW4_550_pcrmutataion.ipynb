{
 "cells": [
  {
   "cell_type": "code",
   "execution_count": 49,
   "id": "3fcec18a",
   "metadata": {},
   "outputs": [
    {
     "name": "stdout",
     "output_type": "stream",
     "text": [
      "Parent Strand: CGGTCAGCGCTATCGTGTATAGCAAATACCACTGTATACCCCCAATGGGCGAGTGGGTACCAATCACTATTAGACGCGACGTGGCCCTTCGTTTAGGTTA\n"
     ]
    }
   ],
   "source": [
    "#!/usr/bin/env python3\n",
    "# -*- coding: utf-8 -*-\n",
    "\"\"\"\n",
    "Created on Mon Nov  8 11:03:05 2021\n",
    "\n",
    "@author: poorvajuneja\n",
    "\"\"\"\n",
    "\n",
    "\n",
    "\n",
    "import random\n",
    "import numpy as np\n",
    "import matplotlib.pyplot as plt\n",
    "import scipy.stats as sps\n",
    "random.seed(12)#so that our parent_strand doesnt change with each call for probability\n",
    "base_pair = ['A','T','G','C']\n",
    "parent_strand = ''\n",
    "for i in range(100):#100 bp parent_strand\n",
    "    parent_strand += random.choice(base_pair)\n",
    "print('Parent Strand:', parent_strand)\n",
    "\n",
    "\n",
    "class PCRmutation(object):\n",
    "   '''\n",
    "    a class which will take an input of parent strand\n",
    "    and 'u' probability value,\n",
    "    will compute PCR replication for each base pair\n",
    "    make a string of  new daughtrer strand and \n",
    "    add it to main list for next cycle of replication\n",
    "   '''\n",
    "   \n",
    "   def __init__(self,u):\n",
    "       self.parent_strand = parent_strand\n",
    "       self.u = u\n",
    "       \n",
    "   def pcr_replication (self):\n",
    "       prob_copy = 1 - self.u #probabaility that it wil copy that basepair as it is\n",
    "       \n",
    "       total_list = []#to store all strands that are being generated in PCR\n",
    "\n",
    "       total_list.append(self.parent_strand)\n",
    "       \n",
    "       for cycle in range(13):\n",
    "          n_list = []\n",
    "          for i in total_list:\n",
    "              n_strand = []\n",
    "              for j in range(len(i)):\n",
    "           \n",
    "           #iterate to each basepair of parent DNA from list and according to probability will create a daughter strand  \n",
    "                prob = random.random()\n",
    "                if prob <= prob_copy:\n",
    "                     n_strand.append(i[j])\n",
    "               \n",
    "               \n",
    "                else:\n",
    "                     basepair_copy = base_pair.copy()\n",
    "                     basepair_copy.remove(i[j])#removes current base pait from list\n",
    "                     n_strand.append(random.choice(basepair_copy))#randomly select base pair with equal probability from remaining\n",
    "               \n",
    "              n_list.append(''.join(n_strand))#list to string\n",
    "          for items in n_list:\n",
    "            total_list.append(items)\n",
    "       return total_list\n",
    "         \n",
    "             \n",
    "   def mutation_probability(self,total_list): \n",
    "       unique_list = np.unique(total_list) #remove duplicates\n",
    "       mutation_prob = round((len(unique_list)/len(total_list)),3)\n",
    "       return unique_list, len(unique_list), mutation_prob\n",
    "\n",
    "    "
   ]
  },
  {
   "cell_type": "code",
   "execution_count": 56,
   "id": "37addb1a",
   "metadata": {},
   "outputs": [
    {
     "name": "stdout",
     "output_type": "stream",
     "text": [
      "\n",
      "\n",
      "Following are the results with mutation probability: 0.01\n",
      "Expected values of uniques in each 13 count cycle repeated 100 times: \n",
      " [5180, 5069, 5117, 5200, 5156, 5210, 5105, 5102, 5197, 5196, 5241, 5157, 5239, 5189, 5180, 5142, 5149, 5170, 5117, 5250, 5188, 5049, 5164, 5204, 5064, 5119, 5221, 5106, 5154, 5131, 5157, 5218, 5180, 5170, 5207, 5130, 5170, 5111, 5111, 5230, 5185, 5210, 5162, 5159, 5250, 5070, 5092, 5233, 5235, 5134, 5109, 5125, 5227, 5140, 5177, 5167, 5158, 5092, 5213, 5159, 5230, 5202, 5158, 5154, 5214, 5143, 5183, 5156, 5135, 5233, 5123, 5159, 5087, 5148, 5161, 5195, 5215, 5168, 5213, 5122, 5194, 5151, 5174, 5146, 5127, 5149, 5116, 5152, 5168, 5119, 5208, 5265, 5139, 5178, 5171, 5112, 5146, 5133, 5110, 5112]\n",
      "Average expected value: 5162\n",
      "Mutation probability in each 13 count cycle repeated 100 times: \n",
      " [0.632, 0.619, 0.625, 0.635, 0.629, 0.636, 0.623, 0.623, 0.634, 0.634, 0.64, 0.63, 0.64, 0.633, 0.632, 0.628, 0.629, 0.631, 0.625, 0.641, 0.633, 0.616, 0.63, 0.635, 0.618, 0.625, 0.637, 0.623, 0.629, 0.626, 0.63, 0.637, 0.632, 0.631, 0.636, 0.626, 0.631, 0.624, 0.624, 0.638, 0.633, 0.636, 0.63, 0.63, 0.641, 0.619, 0.622, 0.639, 0.639, 0.627, 0.624, 0.626, 0.638, 0.627, 0.632, 0.631, 0.63, 0.622, 0.636, 0.63, 0.638, 0.635, 0.63, 0.629, 0.636, 0.628, 0.633, 0.629, 0.627, 0.639, 0.625, 0.63, 0.621, 0.628, 0.63, 0.634, 0.637, 0.631, 0.636, 0.625, 0.634, 0.629, 0.632, 0.628, 0.626, 0.629, 0.625, 0.629, 0.631, 0.625, 0.636, 0.643, 0.627, 0.632, 0.631, 0.624, 0.628, 0.627, 0.624, 0.624]\n",
      "\n",
      "\n",
      "Following are the results with mutation probability: 0.001\n",
      "Expected values of uniques in each 13 count cycle repeated 100 times: \n",
      " [558, 489, 576, 594, 687, 621, 585, 593, 657, 469, 507, 537, 620, 544, 523, 482, 536, 628, 563, 492, 489, 503, 529, 483, 541, 628, 635, 472, 452, 587, 568, 490, 550, 527, 532, 585, 518, 573, 569, 528, 478, 687, 555, 565, 557, 515, 625, 487, 631, 517, 536, 556, 519, 612, 514, 560, 495, 579, 483, 593, 501, 553, 522, 503, 536, 483, 548, 508, 601, 584, 662, 623, 531, 542, 462, 475, 555, 569, 625, 499, 608, 601, 483, 524, 498, 445, 661, 598, 492, 576, 508, 507, 520, 488, 545, 618, 607, 596, 493, 505]\n",
      "Average expected value: 548\n",
      "Mutation probability in each 13 count cycle repeated 100 times: \n",
      " [0.068, 0.06, 0.07, 0.073, 0.084, 0.076, 0.071, 0.072, 0.08, 0.057, 0.062, 0.066, 0.076, 0.066, 0.064, 0.059, 0.065, 0.077, 0.069, 0.06, 0.06, 0.061, 0.065, 0.059, 0.066, 0.077, 0.078, 0.058, 0.055, 0.072, 0.069, 0.06, 0.067, 0.064, 0.065, 0.071, 0.063, 0.07, 0.069, 0.064, 0.058, 0.084, 0.068, 0.069, 0.068, 0.063, 0.076, 0.059, 0.077, 0.063, 0.065, 0.068, 0.063, 0.075, 0.063, 0.068, 0.06, 0.071, 0.059, 0.072, 0.061, 0.068, 0.064, 0.061, 0.065, 0.059, 0.067, 0.062, 0.073, 0.071, 0.081, 0.076, 0.065, 0.066, 0.056, 0.058, 0.068, 0.069, 0.076, 0.061, 0.074, 0.073, 0.059, 0.064, 0.061, 0.054, 0.081, 0.073, 0.06, 0.07, 0.062, 0.062, 0.063, 0.06, 0.067, 0.075, 0.074, 0.073, 0.06, 0.062]\n",
      "\n",
      "\n",
      "Following are the results with mutation probability: 0.0001\n",
      "Expected values of uniques in each 13 count cycle repeated 100 times: \n",
      " [82, 92, 69, 74, 78, 76, 94, 63, 83, 80, 68, 73, 70, 67, 67, 72, 85, 80, 61, 76, 79, 71, 77, 73, 67, 77, 76, 77, 74, 70, 67, 67, 78, 76, 73, 67, 68, 75, 75, 78, 75, 73, 74, 83, 66, 63, 81, 73, 75, 81, 66, 58, 79, 73, 76, 68, 60, 73, 66, 65, 70, 76, 76, 70, 64, 62, 63, 71, 76, 73, 66, 81, 69, 74, 68, 71, 83, 76, 77, 88, 70, 81, 74, 58, 70, 89, 77, 79, 68, 61, 77, 81, 83, 77, 67, 74, 84, 70, 74, 81]\n",
      "Average expected value: 73\n",
      "Mutation probability in each 13 count cycle repeated 100 times: \n",
      " [0.01, 0.011, 0.008, 0.009, 0.01, 0.009, 0.011, 0.008, 0.01, 0.01, 0.008, 0.009, 0.009, 0.008, 0.008, 0.009, 0.01, 0.01, 0.007, 0.009, 0.01, 0.009, 0.009, 0.009, 0.008, 0.009, 0.009, 0.009, 0.009, 0.009, 0.008, 0.008, 0.01, 0.009, 0.009, 0.008, 0.008, 0.009, 0.009, 0.01, 0.009, 0.009, 0.009, 0.01, 0.008, 0.008, 0.01, 0.009, 0.009, 0.01, 0.008, 0.007, 0.01, 0.009, 0.009, 0.008, 0.007, 0.009, 0.008, 0.008, 0.009, 0.009, 0.009, 0.009, 0.008, 0.008, 0.008, 0.009, 0.009, 0.009, 0.008, 0.01, 0.008, 0.009, 0.008, 0.009, 0.01, 0.009, 0.009, 0.011, 0.009, 0.01, 0.009, 0.007, 0.009, 0.011, 0.009, 0.01, 0.008, 0.007, 0.009, 0.01, 0.01, 0.009, 0.008, 0.009, 0.01, 0.009, 0.009, 0.01]\n"
     ]
    }
   ],
   "source": [
    "'''\n",
    "collecting probability estimation of mutation rates\n",
    "by repeating PCR cycle of 13 counts 100 times.\n",
    "\n",
    "'''\n",
    "\n",
    "\n",
    "\n",
    "#for probability of mutation= 0.01             \n",
    "N = 100\n",
    "total_probability1 = []\n",
    "total_Uniques1 = []\n",
    "total_LenUniques1 = []\n",
    "\n",
    "for x in range(N):\n",
    "   process1 = PCRmutation(u = 0.01)\n",
    "   newDaughters1 = process1.pcr_replication()\n",
    "\n",
    "   uniqueList1, uniqueLengths1, probabilityScore1 = process1.mutation_probability(newDaughters1)\n",
    "   total_Uniques1.append(uniqueList1)\n",
    "   total_LenUniques1.append(uniqueLengths1)\n",
    "   total_probability1.append(probabilityScore1)\n",
    "\n",
    "    \n",
    "print()#emptyline\n",
    "print()#emptyline\n",
    "print('Following are the results with mutation probability: 0.01')\n",
    "print('Expected values of uniques in each 13 count cycle repeated 100 times:', '\\n', total_LenUniques1)\n",
    "print('Average expected value:', np.sum(total_LenUniques1)//len(total_LenUniques1))\n",
    "print('Mutation probability in each 13 count cycle repeated 100 times:', '\\n', total_probability1)\n",
    " \n",
    "\n",
    "#for probability of mutation= 0.001   \n",
    "N = 100\n",
    "total_probability2 = []\n",
    "total_Uniques2 = []\n",
    "total_LenUniques2 = []\n",
    "\n",
    "for x in range(N):\n",
    "   process2 = PCRmutation(u = 0.001)\n",
    "   newDaughters2 = process2.pcr_replication()\n",
    "\n",
    "   uniqueList2, uniqueLengths2, probabilityScore2 = process2.mutation_probability(newDaughters2)\n",
    "   total_Uniques2.append(uniqueList2)\n",
    "   total_LenUniques2.append(uniqueLengths2)\n",
    "   total_probability2.append(probabilityScore2)\n",
    "\n",
    "print()#emptyline\n",
    "print()#emptyline\n",
    "print('Following are the results with mutation probability: 0.001')\n",
    "print('Expected values of uniques in each 13 count cycle repeated 100 times:', '\\n', total_LenUniques2)\n",
    "print('Average expected value:', np.sum(total_LenUniques2)//len(total_LenUniques2))\n",
    "print('Mutation probability in each 13 count cycle repeated 100 times:','\\n', total_probability2)\n",
    "\n",
    "\n",
    "#for probability of mutation= 0.0001   \n",
    "N = 100\n",
    "total_probability3 = []\n",
    "total_Uniques3 = []\n",
    "total_LenUniques3 = []\n",
    "\n",
    "for x in range(N):\n",
    "   process3 = PCRmutation(u = 0.0001)\n",
    "   newDaughters3 = process3.pcr_replication()\n",
    "\n",
    "   uniqueList3, uniqueLengths3, probabilityScore3 = process3.mutation_probability(newDaughters3)\n",
    "   total_Uniques3.append(uniqueList3)\n",
    "   total_LenUniques3.append(uniqueLengths3)\n",
    "   total_probability3.append(probabilityScore3)\n",
    "\n",
    "\n",
    "print()#emptyline\n",
    "print()#emptyline\n",
    "print('Following are the results with mutation probability: 0.0001')\n",
    "print('Expected values of uniques in each 13 count cycle repeated 100 times:','\\n', total_LenUniques3)\n",
    "print('Average expected value:', np.sum(total_LenUniques3)//len(total_LenUniques3))\n",
    "print('Mutation probability in each 13 count cycle repeated 100 times:','\\n', total_probability3)\n",
    "\n"
   ]
  },
  {
   "cell_type": "code",
   "execution_count": 48,
   "id": "fb5f76f0",
   "metadata": {},
   "outputs": [
    {
     "data": {
      "image/png": "[encoded data removed]",
      "text/plain": [
       "<Figure size 432x288 with 1 Axes>"
      ]
     },
     "metadata": {
      "needs_background": "light"
     },
     "output_type": "display_data"
    }
   ],
   "source": [
    "'''\n",
    "Calling PCRmutation class with cycle of 13 counts\n",
    "to plot the abundance/frequency of each unique sequence.\n",
    "with x axis as the values for distinct strands and\n",
    "y axis as the value of frequency of those strands.\n",
    "\n",
    "'''\n",
    "\n",
    "my_dict1 = {}#dictionary to store values with their counts\n",
    "plot1 = PCRmutation(u = 0.01)\n",
    "totalStrands1 = plot1.pcr_replication()\n",
    "for s in set(totalStrands1):\n",
    "    my_dict1[s] = totalStrands1.count(s)\n",
    "#collecting max and minimum value for y axis to limit range \n",
    "key_max = max(my_dict1.keys(), key=(lambda k: my_dict1[k]))\n",
    "key_min = min(my_dict1.keys(), key=(lambda k: my_dict1[k]))   \n",
    "max_y = my_dict1[key_max]\n",
    "\n",
    "min_y = my_dict1[key_min]\n",
    "\n",
    "a = my_dict1.keys()\n",
    "b = my_dict1.values()\n",
    "\n",
    "plt.yticks = np.arange(min_y, max_y)\n",
    "plt.xlabel('Distinct strands')\n",
    "plt.ylabel('Frequency of distinct strands')\n",
    "plt.title('Results with mutation probability: 0.01', fontdict={'fontname': 'Comic Sans MS', 'fontsize': 15})\n",
    "plt.bar(a,b)\n",
    "plt.show()\n",
    "\n"
   ]
  },
  {
   "cell_type": "code",
   "execution_count": 46,
   "id": "7281b159",
   "metadata": {},
   "outputs": [
    {
     "data": {
      "image/png": "[encoded data removed]",
      "text/plain": [
       "<Figure size 432x288 with 1 Axes>"
      ]
     },
     "metadata": {
      "needs_background": "light"
     },
     "output_type": "display_data"
    }
   ],
   "source": [
    "\n",
    "my_dict2 = {}#dictionary to store values with their counts\n",
    "plot2 = PCRmutation(u = 0.001)\n",
    "totalStrands2 = plot2.pcr_replication()\n",
    "for s in set(totalStrands2):\n",
    "    my_dict2[s] = totalStrands2.count(s)\n",
    "#collecting max and minimum value for y axis to limit range \n",
    "key_max2 = max(my_dict2.keys(), key=(lambda k: my_dict2[k]))\n",
    "key_min2 = min(my_dict2.keys(), key=(lambda k: my_dict2[k]))   \n",
    "max_y2 = my_dict2[key_max2]\n",
    "\n",
    "min_y2 = my_dict2[key_min2]\n",
    "\n",
    "a2 = my_dict2.keys()\n",
    "b2 = my_dict2.values()\n",
    "\n",
    "plt.yticks = np.arange(min_y2, max_y2)\n",
    "plt.xlabel('Distinct strands')\n",
    "plt.ylabel('Frequency of distinct strands')\n",
    "plt.title('Results with mutation probability: 0.001', fontdict={'fontname': 'Comic Sans MS', 'fontsize': 15})\n",
    "plt.bar(a2,b2)\n",
    "plt.show()\n"
   ]
  },
  {
   "cell_type": "code",
   "execution_count": 47,
   "id": "ef3ea3ef",
   "metadata": {},
   "outputs": [
    {
     "data": {
      "image/png": "[encoded data removed]",
      "text/plain": [
       "<Figure size 432x288 with 1 Axes>"
      ]
     },
     "metadata": {
      "needs_background": "light"
     },
     "output_type": "display_data"
    }
   ],
   "source": [
    "\n",
    "my_dict3 = {}#dictionary to store values with their counts\n",
    "plot3 = PCRmutation(u = 0.0001)\n",
    "totalStrands3 = plot3.pcr_replication()\n",
    "for s in set(totalStrands3):\n",
    "    my_dict3[s] = totalStrands3.count(s)\n",
    "\n",
    "key_max3 = max(my_dict3.keys(), key=(lambda k: my_dict3[k]))\n",
    "key_min3 = min(my_dict3.keys(), key=(lambda k: my_dict3[k]))   \n",
    "max_y3 = my_dict3[key_max3]\n",
    "#collecting max and minimum value for y axis to limit range \n",
    "min_y3 = my_dict3[key_min3]\n",
    "\n",
    "a3 = my_dict3.keys()\n",
    "b3 = my_dict3.values()\n",
    "\n",
    "plt.yticks = np.arange(min_y3, max_y3)\n",
    "plt.xlabel('Distinct strands')\n",
    "plt.ylabel('Frequency of distinct strands')\n",
    "plt.title('Results with mutation probability: 0.0001', fontdict={'fontname': 'Comic Sans MS', 'fontsize': 15})\n",
    "plt.bar(a3,b3)\n",
    "plt.show()\n",
    "\n"
   ]
  },
  {
   "cell_type": "code",
   "execution_count": 60,
   "id": "6be5e263",
   "metadata": {},
   "outputs": [
    {
     "name": "stdout",
     "output_type": "stream",
     "text": [
      "Entropy for probability:0.01 is 29.096615247475675\n",
      "Entropy for probability:0.001 is 18.061257904848784\n",
      "Entropy for probability:0.0001 is 4.216380106920471\n"
     ]
    }
   ],
   "source": [
    "'''\n",
    "Entropy value for each probabilities calculated from above \n",
    "'''\n",
    "from math import log, e\n",
    "#entropy for probabaility:0.01\n",
    "base=None\n",
    "ent1 = 0.\n",
    "base = e if base is None else base\n",
    "for i in total_probability1:\n",
    "    ent1 -= i * log(i, base)\n",
    "print('Entropy for probability:0.01 is' , ent1)\n",
    "\n",
    "#entropy for probabaility:0.001\n",
    "base=None\n",
    "ent2 = 0.\n",
    "base = e if base is None else base\n",
    "for i in total_probability2:\n",
    "    ent2 -= i * log(i, base)\n",
    "print('Entropy for probability:0.001 is' , ent2)\n",
    "\n",
    "#entropy for probabaility:0.0001\n",
    "base=None\n",
    "ent3 = 0.\n",
    "base = e if base is None else base\n",
    "for i in total_probability3:\n",
    "    ent3 -= i * log(i, base)\n",
    "print('Entropy for probability:0.0001 is' , ent3)\n"
   ]
  },
  {
   "cell_type": "markdown",
   "id": "4e4d8e24",
   "metadata": {},
   "source": [
    "EXTRA CREDIT"
   ]
  },
  {
   "cell_type": "code",
   "execution_count": 62,
   "id": "ae5ce619",
   "metadata": {},
   "outputs": [
    {
     "data": {
      "text/plain": [
       "(array([2., 0., 1., 2., 1., 3., 1., 1., 4., 7., 5., 2., 7., 3., 1., 8., 7.,\n",
       "        4., 9., 7., 3., 3., 2., 6., 1., 4., 1., 1., 0., 0., 1., 1., 0., 0.,\n",
       "        1., 1.]),\n",
       " array([58., 59., 60., 61., 62., 63., 64., 65., 66., 67., 68., 69., 70.,\n",
       "        71., 72., 73., 74., 75., 76., 77., 78., 79., 80., 81., 82., 83.,\n",
       "        84., 85., 86., 87., 88., 89., 90., 91., 92., 93., 94.]),\n",
       " <BarContainer object of 36 artists>)"
      ]
     },
     "execution_count": 62,
     "metadata": {},
     "output_type": "execute_result"
    },
    {
     "data": {
      "image/png": "[encoded data removed]",
      "text/plain": [
       "<Figure size 432x288 with 1 Axes>"
      ]
     },
     "metadata": {
      "needs_background": "light"
     },
     "output_type": "display_data"
    }
   ],
   "source": [
    "plt.hist(total_LenUniques3,bins=max(total_LenUniques3)-min(total_LenUniques3))\n"
   ]
  },
  {
   "cell_type": "code",
   "execution_count": 51,
   "id": "91b49143",
   "metadata": {},
   "outputs": [
    {
     "name": "stdout",
     "output_type": "stream",
     "text": [
      "n =100\n",
      "mean_uniques=72.7\n",
      "E =1.2\n",
      "c =90.0%\n",
      "The mean for unique strands 72.7 +- 1.2 at confidence level of c=90.0\n"
     ]
    }
   ],
   "source": [
    "\n",
    "#for probability: 0.0001\n",
    "#will use t-distribution since we don't know the standard deviation of the population we are only using one sample parent DNA with 100 rounds\n",
    "mean_uniques = np.mean(total_LenUniques3)\n",
    "sd_uniques = np.std(total_LenUniques3,ddof=1)\n",
    "n_uniques =len(total_LenUniques3)\n",
    "dof1 = n_uniques-1\n",
    "c1 = 0.9 #confidence level, estimating an interval \n",
    "tc1 = sps.t.interval(c1, dof1, 0.0, 1.0)\n",
    "E1 = tc1[1] * sd_uniques/np.sqrt(n_uniques)\n",
    "print('n ='+str(n_uniques))\n",
    "print('mean_uniques='+str(f\"{mean_uniques:.3}\"))\n",
    "print('E ='+str(f\"{E1:.2}\"))\n",
    "print('c ='+str(100*c1)+'%')\n",
    "print('The mean for unique strands '+str(f\"{mean_uniques:.3}\")+\" +- \"+str(f\"{E1:.2}\")+' at confidence level of c='+str(100*c1))"
   ]
  },
  {
   "cell_type": "code",
   "execution_count": null,
   "id": "b4b25003",
   "metadata": {},
   "outputs": [],
   "source": []
  }
 ],
 "metadata": {
  "kernelspec": {
   "display_name": "Python 3",
   "language": "python",
   "name": "python3"
  },
  "language_info": {
   "codemirror_mode": {
    "name": "ipython",
    "version": 3
   },
   "file_extension": ".py",
   "mimetype": "text/x-python",
   "name": "python",
   "nbconvert_exporter": "python",
   "pygments_lexer": "ipython3",
   "version": "3.8.8"
  }
 },
 "nbformat": 4,
 "nbformat_minor": 5
}
